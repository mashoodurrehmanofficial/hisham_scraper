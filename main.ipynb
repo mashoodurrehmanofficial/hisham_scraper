{
 "cells": [
  {
   "cell_type": "code",
   "execution_count": 1,
   "metadata": {},
   "outputs": [],
   "source": [
    " \n",
    "from bs4 import BeautifulSoup\n",
    "import requests,sys,pandas as pd,time,sqlalchemy ,json,os,django\n",
    "from datetime import datetime\n",
    "import itertools\n",
    "\n"
   ]
  },
  {
   "cell_type": "code",
   "execution_count": 4,
   "metadata": {},
   "outputs": [],
   "source": [
    "from forex_python.bitcoin import BtcConverter\n",
    "b = BtcConverter()\n",
    "usd_unit = b.convert_btc_to_cur(1, 'USD')\n",
    "\n"
   ]
  },
  {
   "cell_type": "code",
   "execution_count": 5,
   "metadata": {},
   "outputs": [],
   "source": [
    "domain = \"https://www.coingecko.com\"\n",
    "exchange_url = \"https://www.coingecko.com/en/exchanges\"\n",
    "nft_url = \"https://www.coingecko.com/en/nft\"\n",
    "\n",
    "headers = {\n",
    "    'User-Agent': 'Mozilla/5.0 (Windows NT 10.0; Win64; x64) AppleWebKit/537.36 (KHTML, like Gecko) Chrome/66.0.3359.181 Safari/537.36', \n",
    "}\n",
    "\n",
    "\n",
    "res = requests.get(\"https://www.coingecko.com/en/exchanges\",time.sleep(5)).text\n",
    "with open(\"z.html\",\"w\",encoding=\"utf-8\")as file:\n",
    "    file.write(str(res))\n",
    "\n",
    " "
   ]
  },
  {
   "cell_type": "code",
   "execution_count": 36,
   "metadata": {},
   "outputs": [],
   "source": [
    "soup = BeautifulSoup(str(res), \"lxml\")"
   ]
  },
  {
   "cell_type": "code",
   "execution_count": 44,
   "metadata": {},
   "outputs": [],
   "source": [
    "def getNextPageIndex(soup):\n",
    "    all_link_tags = soup.select(\"a.page-link\")\n",
    "    for link in all_link_tags:\n",
    "        if link.has_attr(\"rel\") and link['rel'][0]==\"next\":\n",
    "            index = link['href'].split(\"=\")[-1]\n",
    "            return str(index).replace(\"'\",\"\").replace('\"',\"\")\n",
    "    return None\n",
    "\n",
    "def formatString(text):\n",
    "    text =  str(text).strip().replace(\"\\n\",\" \").replace(\"\\t\",\"\").replace(\"  \",\" \") \n",
    "    if \"₿\" in text:\n",
    "        text =   usd_unit* float(text[1:])\n",
    "        text = \"$\" + '{:,}'.format(text)\n",
    "    return text\n",
    "\n",
    "def startTimer(seconds=0):\n",
    "    for remaining in range(seconds, 0, -1):\n",
    "        sys.stdout.write(\"\\r\")\n",
    "        sys.stdout.write(\"{:2d} seconds remaining.\".format(remaining)) \n",
    "        sys.stdout.flush()\n",
    "        time.sleep(1)\n",
    "    sys.stdout.write(\"\\r\\nNew Cycle\\n\")"
   ]
  },
  {
   "cell_type": "code",
   "execution_count": 45,
   "metadata": {},
   "outputs": [],
   "source": [
    "table_rows = soup.select(\"div.coingecko-table div.coin-table.table-responsive  table.table-scrollable tbody tr\")\n",
    "table_rows = [   [y for y in x.select(\"td\")][:-1]   for x in table_rows] \n",
    " \n",
    "for row_index,row in enumerate(table_rows):\n",
    "    image = ([x.select(\"td img\") for x in row])\n",
    "    image = [x for x in image if x][0][0]['src']\n",
    "    # print(image)\n",
    "    for td_index,td in enumerate(row[:]):\n",
    "        table_rows[row_index][td_index] = formatString(td.text)\n",
    "        if td_index==1:\n",
    "            \n",
    "            url = formatString(td.text) if not td.select(\"span.pt-2.flex-column a\") else domain+td.select(\"span.pt-2.flex-column a\")[0]['href']\n",
    "            if 'http' not in url:\n",
    "                url = formatString(row[td_index]) if not td.select(\"a\") else domain+td.select(\"a\")[0]['href']\n",
    "            table_rows[row_index][0] = [table_rows[row_index][0],url]\n",
    "    table_rows[row_index].append(image)\n",
    "                 \n",
    "for row_index,ow in enumerate(table_rows):\n",
    "    temp = table_rows[row_index][0] \n",
    "    del table_rows[row_index][0] \n",
    "    table_rows[row_index].insert(0,temp[0] )  \n",
    "    table_rows[row_index].insert(1,temp[1] )   \n"
   ]
  },
  {
   "cell_type": "code",
   "execution_count": 46,
   "metadata": {},
   "outputs": [
    {
     "name": "stdout",
     "output_type": "stream",
     "text": [
      "['1', 'https://www.coingecko.com/en/exchanges/binance', 'Binance  Centralized', '10', '$19,813,659,966.314312', '$19,813,659,966.314312', '106,970,051.0', '364', '1446', 'https://assets.coingecko.com/markets/images/52/small/binance.jpg?1519353250']\n"
     ]
    }
   ],
   "source": [
    "print((table_rows[0]))"
   ]
  },
  {
   "cell_type": "code",
   "execution_count": null,
   "metadata": {},
   "outputs": [],
   "source": [
    "res2 = requests.get(\"https://www.coingecko.com/en/exchanges/binance\").text\n",
    "with open(\"z2.html\",\"w\",encoding=\"utf-8\")as file:\n",
    "    file.write(str(res2))"
   ]
  },
  {
   "cell_type": "code",
   "execution_count": null,
   "metadata": {},
   "outputs": [],
   "source": [
    "soup2 = BeautifulSoup(str(res2), \"lxml\")"
   ]
  },
  {
   "cell_type": "code",
   "execution_count": null,
   "metadata": {},
   "outputs": [],
   "source": [
    "# soup = BeautifulSoup(str(res2),\"lxml\")\n",
    "trs = soup2.select(\"table tbody tr\")\n",
    "tds = [[ formatString(y.text) for y in x.select(\"td\")] for x in trs]\n",
    "tds = [[y for y in x if len(y)>0 ]for x in tds if len(x)>10]\n",
    "tds_images = [x.select(\"td img\") for x in trs]\n",
    "tds_images = [ [y['src'] for y in x] for x in tds_images]\n",
    "tds_images = [x for x in tds_images if x]\n",
    "for row_index,row in enumerate(tds_images):\n",
    "    try: tds[row_index].append(row) \n",
    "    except:  pass\n",
    "\n",
    "\n",
    "    \n",
    "print(len(tds_images))\n",
    "print(len(tds))\n",
    "\n",
    "# print(len(tds))"
   ]
  },
  {
   "cell_type": "code",
   "execution_count": null,
   "metadata": {},
   "outputs": [],
   "source": [
    "print(tds[1])"
   ]
  },
  {
   "cell_type": "code",
   "execution_count": null,
   "metadata": {},
   "outputs": [],
   "source": [
    "def getDetailNftData(soup):\n",
    "    top_bar = soup.select(\"dl.tw-mt-5.tw-grid\")[0]\n",
    "    top_bar_bold_text = [formatString(x.text) for x in top_bar.select(\"dd.tw-mt-1.tw-text-3xl.tw-font-semibold.tw-text-gray-900\")]\n",
    "    top_bar_lower_text = [formatString(x.text) for x in top_bar.select(\"span.tw-text-gray-500.tw-text-xl\")]\n",
    "    floor_price = top_bar_bold_text[0]\n",
    "    market_cap = top_bar_bold_text[1]\n",
    "    total_24h_volume = top_bar_bold_text[-1]\n",
    "    floor_price_usd = top_bar_lower_text[0].split(\" \")[0]\n",
    "    floor_price_percentage = top_bar_lower_text[0].split(\" \")[-1]\n",
    "    market_cap_usd = top_bar_lower_text[-1].split(\" \")[0]\n",
    "    market_cap_percentage = top_bar_lower_text[-1].split(\" \")[-1]\n",
    "    top_nfts_by_market_cap = soup.select(\"a.text-secondary.ml-2.mb-3.col-10.d-block\")\n",
    "    top_nfts_by_market_cap = [ formatString(x.text) for x in top_nfts_by_market_cap]\n",
    "\n",
    "    stat_table_container = {}\n",
    "    stat_table = soup.select(\"div.table-responsive table.table\")[0]\n",
    "    stat_table_container['head'] = [formatString(x.text) for x in stat_table.select(\"thead tr th\")]\n",
    "    stat_table_container['body'] = [[formatString(y.text) for y in  x.select(\"td\")] for x in stat_table.select(\"tbody tr\")]\n",
    "\n",
    "    return {\n",
    "        \"floor_price\": floor_price,\n",
    "        \"market_cap\": market_cap,\n",
    "        \"total_24h_volume\": total_24h_volume,\n",
    "        \"floor_price_usd\": floor_price_usd,\n",
    "        \"floor_price_percentage\": floor_price_percentage,\n",
    "        \"market_cap_usd\": market_cap_usd,\n",
    "        \"market_cap_percentage\": market_cap_percentage,\n",
    "        \"top_nfts_by_market_cap\": top_nfts_by_market_cap,\n",
    "        \"stat_table_container\": stat_table_container, \n",
    "    }\n"
   ]
  },
  {
   "cell_type": "code",
   "execution_count": null,
   "metadata": {},
   "outputs": [],
   "source": [
    "print(getDetailNftData(soup2))"
   ]
  },
  {
   "cell_type": "code",
   "execution_count": 12,
   "metadata": {},
   "outputs": [],
   "source": []
  },
  {
   "cell_type": "code",
   "execution_count": null,
   "metadata": {},
   "outputs": [],
   "source": []
  },
  {
   "cell_type": "code",
   "execution_count": null,
   "metadata": {},
   "outputs": [],
   "source": [
    " \n",
    "def getDataContainer(): \n",
    "    data_container = {\"exchange_data\":[],\"nft_data\":[]}\n",
    "    for url in [exchange_url,nft_url][:]:\n",
    "        catergory = 'exchange' if 'exchange' in str(url) else \"nft\"\n",
    "        for index in range(1,100):\n",
    "            print(\"-\"*50)\n",
    "            temp_url = url+ f'?page={index}'\n",
    "            print(temp_url)\n",
    "            res = requests.get(temp_url, headers=headers)\n",
    "            print(\"-> Creating Soup\")\n",
    "            soup = BeautifulSoup(str(res.text), \"lxml\")\n",
    "            print(\"-> Analyzing Rows\") \n",
    "            table_rows = soup.select(\"div.coingecko-table div.coin-table.table-responsive  table.table-scrollable tbody tr\")\n",
    "            table_rows = [   [y for y in x.select(\"td\") ][:]   for x in table_rows] \n",
    "            \n",
    "            for row_index,row in enumerate(table_rows):\n",
    "                image = ([x.select(\"td img\") for x in row])\n",
    "                image = [x for x in image if x][0][0]['src']\n",
    "                for td_index,td in enumerate(row[:]):\n",
    "                    table_rows[row_index][td_index] = formatString(td.text)\n",
    "                    if td_index==1:\n",
    "                        url = formatString(td.text) if not td.select(\"span.pt-2.flex-column a\") else domain+td.select(\"span.pt-2.flex-column a\")[0]['href']\n",
    "                        if 'http' not in url:\n",
    "                            url = formatString(row[td_index]) if not td.select(\"a\") else domain+td.select(\"a\")[0]['href']\n",
    "                        table_rows[row_index][0] = [table_rows[row_index][0],url]\n",
    "                \n",
    "                table_rows[row_index].append(image)\n",
    "                 \n",
    "                            \n",
    "            table_rows = [   [y for y in x if len(y)>0][:]   for x in table_rows] \n",
    "            \n",
    "            \n",
    "            for row_index,ow in enumerate(table_rows):\n",
    "                temp = table_rows[row_index][0] \n",
    "                del table_rows[row_index][0] \n",
    "                table_rows[row_index].insert(0,temp[1] )   \n",
    "                table_rows[row_index].insert(1,temp[0] )  \n",
    "            \n",
    "            \n",
    "            \n",
    "            if catergory=='exchange':\n",
    "                data_container['exchange_data'] = data_container['exchange_data'] + table_rows\n",
    "            else:\n",
    "                data_container['nft_data'] = data_container['nft_data'] + table_rows\n",
    "                \n",
    "            if not getNextPageIndex(soup=soup):\n",
    "                break\n",
    "            \n",
    "    for x in data_container:\n",
    "        for index,row in enumerate(data_container[x][:]):\n",
    "            data_container[x][index] = data_container[x][index] + [str(datetime.today())]\n",
    "            \n",
    "    with open(\"res.json\",\"w\",encoding=\"utf-8\")as file:\n",
    "        json.dump(data_container,file,indent=4)      \n",
    "    return data_container          \n",
    "            \n",
    "        \n",
    "        "
   ]
  },
  {
   "cell_type": "code",
   "execution_count": null,
   "metadata": {},
   "outputs": [],
   "source": [
    "data_container = getDataContainer()"
   ]
  },
  {
   "cell_type": "code",
   "execution_count": null,
   "metadata": {},
   "outputs": [],
   "source": [
    "print(data_container['exchange_data'][0])"
   ]
  },
  {
   "cell_type": "code",
   "execution_count": null,
   "metadata": {},
   "outputs": [],
   "source": [
    "\n",
    "import os,json\n",
    "import django\n",
    "os.environ.setdefault('DJANGO_SETTINGS_MODULE', 'PROJECT.settings')\n",
    "django.setup()\n",
    "# Now this script or any imported module can use any part of Django it needs.\n",
    "from root.models import *\n",
    "\n",
    "NftTable.objects.all().count()"
   ]
  },
  {
   "cell_type": "code",
   "execution_count": null,
   "metadata": {},
   "outputs": [],
   "source": [
    "with open(\"res.json\",\"w\",encoding=\"utf-8\")as file:\n",
    "    json.dump(data_container,file,indent=4)"
   ]
  },
  {
   "cell_type": "code",
   "execution_count": null,
   "metadata": {},
   "outputs": [],
   "source": [
    "def getDetailedDataContainer(data_container):\n",
    "    detailed_data_container = {}\n",
    "    for category,data in data_container.items():\n",
    "        category_name = category.split(\"_\")[0]\n",
    "        detailed_data_container[category] = {}\n",
    "        print(\"-\"*50)\n",
    "        print(\"category_name = \", category_name)\n",
    "        if category_name==\"exchange\":\n",
    "            for index,row in enumerate(data[:10]):\n",
    "                trade_name = row[2]\n",
    "                url = row[0]\n",
    "                print(\"Index = \",index)\n",
    "                print(url) \n",
    "                res = requests.get(url)\n",
    "                soup = BeautifulSoup(str(res.text),\"lxml\")\n",
    "                trs = soup.select(\"table tbody tr\")\n",
    "                tds = [[ formatString(y.text) for y in x.select(\"td\")] for x in trs]\n",
    "                tds = [[y for y in x if len(y)>0 ]for x in tds if len(x)>10]\n",
    "                \n",
    "                tds_images = [x.select(\"td img\") for x in trs]\n",
    "                tds_images = [ [y['src'] for y in x] for x in tds_images]\n",
    "                tds_images = [x for x in tds_images if x]\n",
    "                for row_index,row in enumerate(tds_images):\n",
    "                    try: tds[row_index].append(row) \n",
    "                    except:  pass\n",
    "                \n",
    "                \n",
    "                \n",
    "                detailed_data_container[category][trade_name] = tds\n",
    "            pass      \n",
    "        else:\n",
    "            for index,row in enumerate(data[:10]):\n",
    "                trade_name = row[2]\n",
    "                url = row[0] \n",
    "                print(\"Index = \",index)\n",
    "                print(url) \n",
    "                res = requests.get(url)\n",
    "                soup = BeautifulSoup(str(res.text),\"lxml\")\n",
    "                detailed_data_container[category][trade_name] = getDetailNftData(soup)\n",
    "\n",
    "    with open(\"res2.json\",\"w\",encoding=\"utf-8\")as file:\n",
    "        json.dump(detailed_data_container,file,indent=4)   \n",
    "    return detailed_data_container              \n",
    "            \n",
    "            \n",
    "            "
   ]
  },
  {
   "cell_type": "code",
   "execution_count": null,
   "metadata": {},
   "outputs": [],
   "source": [
    "detailed_data_container = getDetailedDataContainer(data_container)\n",
    "\n"
   ]
  },
  {
   "cell_type": "code",
   "execution_count": null,
   "metadata": {},
   "outputs": [],
   "source": [
    "\n",
    "with open(\"res2.json\",\"w\",encoding=\"utf-8\")as file:\n",
    "    json.dump(detailed_data_container,file,indent=4)"
   ]
  },
  {
   "cell_type": "code",
   "execution_count": null,
   "metadata": {},
   "outputs": [],
   "source": [
    "def main():\n",
    "   # try:\n",
    "      index=0\n",
    "      while True:\n",
    "         print(\"-> Scrapping started Main Pages!\")\n",
    "         data_container = getDataContainer()\n",
    "         # data has been saved to res.json \n",
    "         print(\"-> Scrapping started Sub-Level Pages!\")\n",
    "         detailed_data_container = getDetailedDataContainer(data_container)\n",
    "         print(\"-> Data Saved to Database !\")\n",
    "         print(\"-\"*50)\n",
    "         startTimer(seconds=5)\n",
    "         index = index+1\n",
    "         # if index>2:\n",
    "         #        break\n",
    "         break\n",
    "   # except:\n",
    "   #    main()\n",
    "    \n",
    "     "
   ]
  },
  {
   "cell_type": "code",
   "execution_count": null,
   "metadata": {},
   "outputs": [],
   "source": [
    "main()"
   ]
  },
  {
   "cell_type": "code",
   "execution_count": null,
   "metadata": {},
   "outputs": [],
   "source": []
  }
 ],
 "metadata": {
  "interpreter": {
   "hash": "e4abcd27c1b37494262f17a81aca66206f02c4180b9397e92552f3d8b0960bb9"
  },
  "kernelspec": {
   "display_name": "Python 3.8.0 64-bit",
   "language": "python",
   "name": "python3"
  },
  "language_info": {
   "codemirror_mode": {
    "name": "ipython",
    "version": 3
   },
   "file_extension": ".py",
   "mimetype": "text/x-python",
   "name": "python",
   "nbconvert_exporter": "python",
   "pygments_lexer": "ipython3",
   "version": "3.8.0"
  },
  "orig_nbformat": 4
 },
 "nbformat": 4,
 "nbformat_minor": 2
}
