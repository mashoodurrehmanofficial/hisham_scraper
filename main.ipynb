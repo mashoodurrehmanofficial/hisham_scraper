{
 "cells": [
  {
   "cell_type": "code",
   "execution_count": 18,
   "metadata": {},
   "outputs": [],
   "source": [
    " \n",
    "from bs4 import BeautifulSoup\n",
    "import requests,sys,pandas as pd,time,sqlalchemy ,json,os\n",
    "from datetime import datetime\n",
    "\n"
   ]
  },
  {
   "cell_type": "code",
   "execution_count": 43,
   "metadata": {},
   "outputs": [
    {
     "name": "stdout",
     "output_type": "stream",
     "text": [
      "{'host': '213.5.71.157', 'username': 'trabic_crypto', 'password': 'gujnvf55vo87', 'database': 'trabic_crypto'}\n"
     ]
    }
   ],
   "source": [
    "credentials = json.loads(open(os.path.join(os.getcwd(),\"credentials.json\"),'r').read())\n",
    "print(credentials)"
   ]
  },
  {
   "cell_type": "code",
   "execution_count": 36,
   "metadata": {},
   "outputs": [],
   "source": [
    "credentials = json.loads(open(\"credentials.json\",'r').read())\n",
    "database_ip       = credentials['host']\n",
    "database_username = credentials['username']\n",
    "database_password = credentials['password']\n",
    "database_name     = credentials['database']\n",
    "database_connection = sqlalchemy.create_engine('mysql+mysqlconnector://{0}:{1}@{2}/{3}'.\n",
    "                                               format(database_username, database_password, \n",
    "                                                      database_ip, database_name))\n",
    "\n"
   ]
  },
  {
   "cell_type": "code",
   "execution_count": 41,
   "metadata": {},
   "outputs": [
    {
     "name": "stdout",
     "output_type": "stream",
     "text": [
      "172\n"
     ]
    }
   ],
   "source": [
    "# data = database_connection.execute(\"drop table IF EXISTS nft  \")\n",
    "# data = database_connection.execute(\"drop table IF EXISTS exchange  \") \n",
    "data = database_connection.execute(\"select * from nft\").fetchall()\n",
    "# data = database_connection.execute(\"show tables\").fetchall()\n",
    "print(len(data))"
   ]
  },
  {
   "cell_type": "code",
   "execution_count": null,
   "metadata": {},
   "outputs": [],
   "source": [
    "exchange_url = \"https://www.coingecko.com/en/exchanges\"\n",
    "nft_url = \"https://www.coingecko.com/en/nft\"\n",
    "\n",
    "headers = {\n",
    "    'User-Agent': 'Mozilla/5.0 (Windows NT 10.0; Win64; x64) AppleWebKit/537.36 (KHTML, like Gecko) Chrome/66.0.3359.181 Safari/537.36', \n",
    "}\n",
    " "
   ]
  },
  {
   "cell_type": "code",
   "execution_count": null,
   "metadata": {},
   "outputs": [],
   "source": [
    "def getNextPageIndex(soup):\n",
    "    all_link_tags = soup.select(\"a.page-link\")\n",
    "    for link in all_link_tags:\n",
    "        if link.has_attr(\"rel\") and link['rel'][0]==\"next\":\n",
    "            index = link['href'].split(\"=\")[-1]\n",
    "            return str(index).replace(\"'\",\"\").replace('\"',\"\")\n",
    "    return None\n",
    "\n",
    "def formatString(text):\n",
    "    return str(text).strip().replace(\"\\n\",\" \").replace(\"\\t\",\"\").replace(\"  \",\" \").replace(\"₿\",\"$\")\n",
    "\n",
    "\n",
    "def startTimer(seconds=0):\n",
    "    for remaining in range(seconds, 0, -1):\n",
    "        sys.stdout.write(\"\\r\")\n",
    "        sys.stdout.write(\"{:2d} seconds remaining.\".format(remaining)) \n",
    "        sys.stdout.flush()\n",
    "        time.sleep(1)\n",
    "    sys.stdout.write(\"\\r\\nNew Cycle\\n\")"
   ]
  },
  {
   "cell_type": "code",
   "execution_count": null,
   "metadata": {},
   "outputs": [],
   "source": []
  },
  {
   "cell_type": "code",
   "execution_count": null,
   "metadata": {},
   "outputs": [],
   "source": [
    "# data_container = {\"exchange_data\":[],\"nft_data\":[]}\n",
    "def getDataContainer():\n",
    "    data_container = {\"exchange_data\":[],\"nft_data\":[]}\n",
    "    for url in [exchange_url,nft_url][:]:\n",
    "        catergory = 'exchange' if 'exchange' in str(url) else \"nft\"\n",
    "        for index in range(1,100):\n",
    "            print(\"-\"*50)\n",
    "            temp_url = url+ f'?page={index}'\n",
    "            print(temp_url)\n",
    "            res = requests.get(temp_url, headers=headers)\n",
    "            print(\"-> Creating Soup\")\n",
    "            soup = BeautifulSoup(str(res.text), \"lxml\")\n",
    "            print(\"-> Analyzing Rows\")\n",
    "            table_rows = soup.select(\"div.coingecko-table div.coin-table.table-responsive  table.table-scrollable tbody tr\")\n",
    "            table_rows = [[formatString(y.text) for y in x.select(\"td\")][:-1] for x in table_rows] \n",
    "            if catergory=='exchange':\n",
    "                data_container['exchange_data'] = data_container['exchange_data'] + table_rows\n",
    "            else:\n",
    "                data_container['nft_data'] = data_container['nft_data'] + table_rows\n",
    "                \n",
    "            if not getNextPageIndex(soup=soup):\n",
    "                break\n",
    "            \n",
    "    for x in data_container:\n",
    "        for index,row in enumerate(data_container[x][:]):\n",
    "            data_container[x][index] = data_container[x][index] + [str(datetime.today())]\n",
    "            \n",
    "            \n",
    "    return data_container          \n",
    "            \n",
    "        \n",
    "        "
   ]
  },
  {
   "cell_type": "code",
   "execution_count": null,
   "metadata": {},
   "outputs": [],
   "source": [
    "# for x in data_container:\n",
    "#     for index,row in enumerate(data_container[x][:]):\n",
    "#         data_container[x][index] = data_container[x][index] + [str(datetime.today())]\n",
    "#         # print(datetime.today())\n",
    "#         print(data_container[x][index])"
   ]
  },
  {
   "cell_type": "code",
   "execution_count": null,
   "metadata": {},
   "outputs": [],
   "source": [
    "# exchange_df = pd.DataFrame(data=data_container['exchange_data'],columns=[\"index\",'exchange','trust_score','total_24h_volume_normalized','total_24h_volume','visits_similarWeb','coins','pairs',\"time_stamp\"])\n",
    "# nft_df = pd.DataFrame(data=data_container['nft_data'],columns=[\"index\",'nft','floor_price','total_24h',\"market_cap\",\"total_24h_volume\",\"owners\",\"total_24h_owners\",\"total_assets\",\"time_stamp\" ])\n",
    "\n",
    "# exchange_df.to_sql(name=\"exchange\", con=database_connection,if_exists='append', chunksize=1000,index=False)\n",
    "# nft_df.to_sql(name=\"nft\", con=database_connection,if_exists='append', chunksize=1000,index=False)"
   ]
  },
  {
   "cell_type": "code",
   "execution_count": null,
   "metadata": {},
   "outputs": [],
   "source": [
    "# print(exchange_df.columns)"
   ]
  },
  {
   "cell_type": "code",
   "execution_count": null,
   "metadata": {},
   "outputs": [],
   "source": [
    "def main():\n",
    "   try:\n",
    "      index=0\n",
    "      while True:\n",
    "         print(\"-> Scrapping started !\")\n",
    "         data_container = getDataContainer()\n",
    "         print(\"-> Creating DataFrame\")\n",
    "         \n",
    "         exchange_df = pd.DataFrame(data=data_container['exchange_data'],columns=[\"index\",'exchange','trust_score','total_24h_volume_normalized','total_24h_volume','visits_similarWeb','coins','pairs',\"time_stamp\"])\n",
    "         nft_df = pd.DataFrame(data=data_container['nft_data'],columns=[\"index\",'nft','floor_price','total_24h',\"market_cap\",\"total_24h_volume\",\"owners\",\"total_24h_owners\",\"total_assets\",\"time_stamp\" ])\n",
    "         exchange_df.to_sql(name=\"exchange\", con=database_connection,if_exists='append', chunksize=1000,index=False)\n",
    "         nft_df.to_sql(name=\"nft\", con=database_connection,if_exists='append', chunksize=1000,index=False)\n",
    "         print(\"-> Data Saved to Database !\")\n",
    "         print(\"-\"*50)\n",
    "         startTimer(seconds=5)\n",
    "         index = index+1\n",
    "         if index>2:break\n",
    "   except:\n",
    "      main()\n",
    "    \n",
    "     "
   ]
  },
  {
   "cell_type": "code",
   "execution_count": null,
   "metadata": {},
   "outputs": [],
   "source": [
    "main()"
   ]
  },
  {
   "cell_type": "code",
   "execution_count": null,
   "metadata": {},
   "outputs": [],
   "source": []
  }
 ],
 "metadata": {
  "interpreter": {
   "hash": "e4abcd27c1b37494262f17a81aca66206f02c4180b9397e92552f3d8b0960bb9"
  },
  "kernelspec": {
   "display_name": "Python 3.8.0 64-bit",
   "language": "python",
   "name": "python3"
  },
  "language_info": {
   "codemirror_mode": {
    "name": "ipython",
    "version": 3
   },
   "file_extension": ".py",
   "mimetype": "text/x-python",
   "name": "python",
   "nbconvert_exporter": "python",
   "pygments_lexer": "ipython3",
   "version": "3.8.0"
  },
  "orig_nbformat": 4
 },
 "nbformat": 4,
 "nbformat_minor": 2
}
