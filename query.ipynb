{
 "cells": [
  {
   "cell_type": "code",
   "execution_count": null,
   "metadata": {},
   "outputs": [],
   "source": [
    "# %%\n",
    " \n",
    "from bs4 import BeautifulSoup\n",
    "import requests,sys,pandas as pd,time,sqlalchemy ,json\n",
    "from datetime import datetime\n",
    "\n",
    "# %%\n",
    "credentials = json.loads(open(\"credentials.json\",'r').read())\n",
    "database_ip       = credentials['host']\n",
    "database_username = credentials['username']\n",
    "database_password = credentials['password']\n",
    "database_name     = credentials['database']\n",
    "database_connection = sqlalchemy.create_engine('mysql+mysqlconnector://{0}:{1}@{2}/{3}'.\n",
    "                                               format(database_username, database_password, \n",
    "                                                      database_ip, database_name))"
   ]
  }
 ],
 "metadata": {
  "interpreter": {
   "hash": "e4abcd27c1b37494262f17a81aca66206f02c4180b9397e92552f3d8b0960bb9"
  },
  "kernelspec": {
   "display_name": "Python 3.8.0 64-bit",
   "language": "python",
   "name": "python3"
  },
  "language_info": {
   "codemirror_mode": {
    "name": "ipython",
    "version": 3
   },
   "file_extension": ".py",
   "mimetype": "text/x-python",
   "name": "python",
   "nbconvert_exporter": "python",
   "pygments_lexer": "ipython3",
   "version": "3.8.0"
  },
  "orig_nbformat": 4
 },
 "nbformat": 4,
 "nbformat_minor": 2
}
